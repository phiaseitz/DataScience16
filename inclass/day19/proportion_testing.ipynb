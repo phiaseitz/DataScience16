{
 "cells": [
  {
   "cell_type": "markdown",
   "metadata": {},
   "source": [
    "## Power Analysis and Selecting the Right Test Statistic\n",
    "\n",
    "I put together this notebook partially to reinforce the ThinkPython material on hypothesis testing, and partially to answer a question posed (I think) by Jacob Kingery.\n",
    "\n",
    "> If p-values can be thought of as the probability of an effect happening by chance, isn't it weird that it can change based on the test statistic (such as total deviation vs. chi-squared)?  Was one of these just the wrong thing to do?  A 4% chance is a lot different than a 13% chance.\n",
    "\n",
    "There are a few concerns to worry about when selecting a test statistic for performing a signifiance test.  Mainly we are interested in the following types of errors:\n",
    "1.  Type 1 error:  this occurs when the null hypothesis is rejected when in fact it is true.  Another way to think of this is as a false positive.  That is, we have declared that it is unlikely we would have seen the result we did if the null hypothesis was true (e.g. if the mean really is 0), however, the null hypothesis was in fact true.\n",
    "2.  Type 2 error: this occurs when we fail to reject the null hypothesis.  This can also be thought of as a false negative.  That is, even though the data had some sort of pattern, we were not able to reject the null hypothesis.\n",
    "\n",
    "The probability of a type 1 error is controlled by the threshold that we use for the p-value for rejecting the null-hypothesis.  If we choose the traditional value of $p \\leq .05$, then we have a 5% chance of a type 1 error.  Type 2 errors can come from several factors.  First, we might not have enough data to reject the null hypothesis.  Second, we might be using a suboptimal test statistic.\n",
    "\n",
    "In this notebook we are going to look at the effect that the choice of test statistic could have on the probability of committing a type 2 error.  The example we will be using comes from the ThinkPython reading.  Specifically, we will be trying to determine if the experiments we get from rolling a 6-sided die 60 times provide enough evidence to reject the null hypothesis that the die is fair.  \n",
    "\n",
    "> Suppose you run a casino and you suspect that a customer is using a crooked die; that is, one that has been modified to make one of the faces more likely than the others. You apprehend the alleged cheater and confiscate the die, but now you have to prove that it is crooked. You roll the die 60 times and get the following results:\n",
    "\n",
    "> |Value|1|2|3|4|5|6|\n",
    "> |---|---|---|---|---|---|---|\n",
    "> |Frequency|8|9|19|5|8|11|\n",
    "\n",
    "Is this die fair?  To investigate the question, we define two test statistics: sum of absolute deviations and chi squared."
   ]
  },
  {
   "cell_type": "code",
   "execution_count": 3,
   "metadata": {
    "collapsed": false
   },
   "outputs": [
    {
     "name": "stdout",
     "output_type": "stream",
     "text": [
      "observed absolute deviation stat 20\n",
      "observed chi2 stat 9\n"
     ]
    }
   ],
   "source": [
    "def abs_deviation_stat(observed, expected):\n",
    "    \"\"\" Computes the sum of absolute deviations from\n",
    "        the expected to the observed.  observed and\n",
    "        expected are both dictionaries that map from\n",
    "        events to counts. \"\"\"\n",
    "    return sum(abs(observed[k] - expected[k]) for k in expected)\n",
    "\n",
    "def chi2_stat(observed, expected):\n",
    "    \"\"\" Computes the sum of chi2 statistic between\n",
    "        the expected and the observed.  observed and\n",
    "        expected are both dictionaries that map from\n",
    "        events to counts. \"\"\"\n",
    "    return sum((observed[k] - expected[k])**2/expected[k] for k in expected)\n",
    "\n",
    "# this is the data from ThinkStats2 Chapter 9\n",
    "expected = {1: 10, 2: 10, 3: 10, 4: 10, 5: 10, 6: 10}\n",
    "observed = {1: 8, 2: 9, 3: 19, 4: 5, 5: 8, 6: 11}\n",
    "\n",
    "observed_abs_deviation_stat = abs_deviation_stat(expected, observed)\n",
    "print \"observed absolute deviation stat\", observed_abs_deviation_stat\n",
    "\n",
    "observed_chi2_stat = chi2_stat(expected, observed)\n",
    "print \"observed chi2 stat\", observed_chi2_stat"
   ]
  },
  {
   "cell_type": "code",
   "execution_count": 18,
   "metadata": {
    "collapsed": false
   },
   "outputs": [
    {
     "name": "stdout",
     "output_type": "stream",
     "text": [
      "p_val_abs 0.131\n",
      "p_val_chi2 0.0535\n"
     ]
    }
   ],
   "source": [
    "import sys\n",
    "sys.path.append('../../ThinkStats2')\n",
    "import thinkstats2\n",
    "import numpy as np\n",
    "from numpy.random import choice\n",
    "\n",
    "def simulate_die(probs, n):\n",
    "    \"\"\" Compute the histogram of outcomes from rolling die with\n",
    "        faces given by the keys of the dictionary `probs` and\n",
    "        probabilities given by the value sof the dictionary `probs`\n",
    "    \"\"\"\n",
    "    rolls = choice(probs.keys(), n, p=probs.values())\n",
    "    return thinkstats2.Hist(rolls)\n",
    "\n",
    "def get_p_vals(obs_abs_stat, obs_chi2_stat, num_rolls, n_trials):\n",
    "    \"\"\" Compute the p_values for both the absolute deviation statistic\n",
    "        and the chi2 statistic using `n_trials` simulations.\n",
    "        The function returns the two p-values as a tuple where\n",
    "        the first element the p-value as computed using the absolute\n",
    "        deviation statistic and the second is the p-value using the\n",
    "        chi2 statistic. \"\"\"\n",
    "    trials_abs_stat = []\n",
    "    trials_chi2_stat = []\n",
    "    null_probs = {1: 1/6.0,\n",
    "                  2: 1/6.0,\n",
    "                  3: 1/6.0,\n",
    "                  4: 1/6.0,\n",
    "                  5: 1/6.0,\n",
    "                  6: 1/6.0}\n",
    "    for i in range(n_trials):\n",
    "        rolls = simulate_die(null_probs, num_rolls)\n",
    "        trials_abs_stat.append(abs_deviation_stat(rolls, expected))\n",
    "        trials_chi2_stat.append(chi2_stat(rolls, expected))\n",
    "\n",
    "    p_val_abs = np.mean([trial >= obs_abs_stat for trial in trials_abs_stat])\n",
    "    p_val_chi2 = np.mean([trial >= obs_chi2_stat for trial in trials_chi2_stat])\n",
    "    return p_val_abs, p_val_chi2\n",
    "\n",
    "n_trials_for_p_value = 2000\n",
    "p_val_abs, p_val_chi2 = get_p_vals(observed_abs_deviation_stat,\n",
    "                                   observed_chi2_stat,\n",
    "                                   sum(observed.values()),\n",
    "                                   n_trials_for_p_value)\n",
    "\n",
    "print \"p_val_abs\", p_val_abs\n",
    "print \"p_val_chi2\", p_val_chi2"
   ]
  },
  {
   "cell_type": "markdown",
   "metadata": {},
   "source": [
    "Now we are confronted with Jacob's question.  Which of these do we believe?  One of them appears to be saying that we should reject the null hypothesis, the other suggests that we shouldn't.\n",
    "\n",
    "As we stated before, the threshold for our p-value sets the probability of committing a type 1 error.  What will distinguish the tests is the probability of making a type 2 error (or false negative).  In order to investigate the probability of a type 2 error we have to have a model not only of the null hypothesis, but of the alternative hypothesis.  This is a tricky problem, and I make no claims that we can do it perfectly.  To get started, I propose the following model of the alternate hypothesis.\n",
    "\n",
    "The alternate hypothesis to the die being fair is that one of the sides is either more or less likely to come up than the others.  I propose the following family of alternative hypotheses.\n",
    "\n",
    "$p(i) = q$, where $i$ is the face that has a non-uniform (i.e. not equal to $\\frac{1}{6}$) probability of occurring, and $q$ is just some number between 0 and 1 (inclusive).  This last fact follows from the fact that it is a probability.  If we assume that the other faces are equally likely to occur, it follows that:\n",
    "\n",
    "$p(j) = \\frac{1 - q}{q}, \\forall i \\neq j$ .\n",
    "\n",
    "For concreteness, here are a few PMFs for the alternate hypothesis."
   ]
  },
  {
   "cell_type": "code",
   "execution_count": 37,
   "metadata": {
    "collapsed": false
   },
   "outputs": [
    {
     "data": {
      "image/png": "[encoded data removed]",
      "text/plain": [
       "<matplotlib.figure.Figure at 0x7f8486c13f10>"
      ]
     },
     "metadata": {},
     "output_type": "display_data"
    }
   ],
   "source": [
    "%matplotlib inline\n",
    "import thinkplot\n",
    "import matplotlib.pyplot as plt\n",
    "\n",
    "thinkplot.Pmf(thinkstats2.Pmf({1: .1, 2: (1-.1)/5,\n",
    "                               2: (1-.1)/5,\n",
    "                               3: (1-.1)/5,\n",
    "                               4: (1-.1)/5,\n",
    "                               5: (1-.1)/5,\n",
    "                               6:(1-.1)/5}))\n",
    "thinkplot.Pmf(thinkstats2.Pmf({1: (1-.6)/5,\n",
    "                               2: .6,\n",
    "                               3: (1-.6)/5,\n",
    "                               4: (1-.6)/5,\n",
    "                               5: (1-.6)/5,\n",
    "                               6:(1-.6)/5}))\n",
    "thinkplot.Pmf(thinkstats2.Pmf({1: (1-.2)/5,\n",
    "                               2: (1-.2)/5,\n",
    "                               3: (1-.2)/5,\n",
    "                               4: .2,\n",
    "                               5: (1-.2)/5,\n",
    "                               6:(1-.2)/5}))\n",
    "\n",
    "plt.xlabel('die outcome')\n",
    "plt.ylabel('probability')\n",
    "plt.show()"
   ]
  },
  {
   "cell_type": "markdown",
   "metadata": {},
   "source": [
    "Even with this very simplified model of the alternative hypothesis there are infinitely many possibilities.  In order to see our different tests perform for these alternative hypotheses, we will search over a small discrete number of them.  It's pretty easy to see that the die outcomes are interchangeable, and thus we can assume that die outcome of 1 is the one with differing probability."
   ]
  },
  {
   "cell_type": "code",
   "execution_count": 42,
   "metadata": {
    "collapsed": false
   },
   "outputs": [
    {
     "name": "stdout",
     "output_type": "stream",
     "text": [
      "0 0.0\n",
      "1 0.1\n",
      "2 0.2\n",
      "3 0.3\n",
      "4 0.4\n",
      "5 0.5\n",
      "6 0.6\n",
      "7 0.7\n",
      "8 0.8\n",
      "9 0.9\n",
      "10 1.0\n"
     ]
    }
   ],
   "source": [
    "# we will vary the probability of the die outcome 1 from 0 to 1 in steps of .1\n",
    "prob_1 = np.linspace(0, 1, 11)\n",
    "\n",
    "# To smooth out variability we will repeat each alternate hypothesis 100 times\n",
    "n_reps = 100\n",
    "p_vals_abs = np.zeros((len(prob_1), n_reps))\n",
    "p_vals_chi2 = np.zeros((len(prob_1), n_reps))\n",
    "\n",
    "for i, p_1 in enumerate(prob_1):\n",
    "    print i, p_1\n",
    "    die_probs = {1: p_1}\n",
    "    for j in range(2, 7):\n",
    "        die_probs[j] = (1 - p_1)/5.0\n",
    "\n",
    "    for t in range(n_reps):\n",
    "        rolls = simulate_die(die_probs, sum(observed.values()))\n",
    "        trial_abs_stat = abs_deviation_stat(rolls, expected)\n",
    "        trial_chi2_stat = chi2_stat(rolls, expected)\n",
    "        p_vals_abs[i, t], p_vals_chi2[i, t] = get_p_vals(trial_abs_stat,\n",
    "                                                         trial_chi2_stat,\n",
    "                                                         sum(observed.values()),\n",
    "                                                         n_trials_for_p_value)"
   ]
  },
  {
   "cell_type": "markdown",
   "metadata": {},
   "source": [
    "To finish our analysis, let's plot the probability of commiting a type 2 error for each of the tests as a function of the probability of the die outcome of 1."
   ]
  },
  {
   "cell_type": "code",
   "execution_count": 46,
   "metadata": {
    "collapsed": false
   },
   "outputs": [
    {
     "data": {
      "image/png": "[encoded data removed]",
      "text/plain": [
       "<matplotlib.figure.Figure at 0x7f8483f4c450>"
      ]
     },
     "metadata": {},
     "output_type": "display_data"
    }
   ],
   "source": [
    "plt.plot(prob_1, [np.mean(p_vals_abs[i, :] > .05) for i in range(len(prob_1))])\n",
    "plt.plot(prob_1, [np.mean(p_vals_chi2[i, :] > .05) for i in range(len(prob_1))])\n",
    "plt.legend(['Abs Test', 'Chi2 Test'])\n",
    "plt.xlabel('probability of die outcome 1')\n",
    "plt.ylabel('probability of type 2 error')\n",
    "plt.show()"
   ]
  },
  {
   "cell_type": "markdown",
   "metadata": {},
   "source": [
    "At least for this model of the alternative hypothesis, the chi2 test seems to be superior.  Next, I'll search over a space of alternate hypotheses by sampling a random set of probabilities for each die outcome."
   ]
  },
  {
   "cell_type": "code",
   "execution_count": 70,
   "metadata": {
    "collapsed": false
   },
   "outputs": [],
   "source": [
    "from scipy.stats import dirichlet\n",
    "\n",
    "n_random = 10\n",
    "probs = []\n",
    "p_vals_abs = np.zeros((n_random, n_reps))\n",
    "p_vals_chi2 = np.zeros((n_random, n_reps))\n",
    "\n",
    "for i in range(n_random):\n",
    "    # sample some random probabilities from a Dirichlet distribution\n",
    "    # https://en.wikipedia.org/wiki/Dirichlet_distribution\n",
    "    probs.append(dirichlet.rvs([1]*6))\n",
    "    for t in range(n_reps):\n",
    "        die_probs = dict(zip(range(1,7), probs[-1][0]))\n",
    "        rolls = simulate_die(die_probs, sum(observed.values()))\n",
    "        trial_abs_stat = abs_deviation_stat(rolls, expected)\n",
    "        trial_chi2_stat = chi2_stat(rolls, expected)\n",
    "        p_vals_abs[i, t], p_vals_chi2[i, t] = get_p_vals(trial_abs_stat,\n",
    "                                                         trial_chi2_stat,\n",
    "                                                         sum(observed.values()),\n",
    "                                                         n_trials_for_p_value)"
   ]
  },
  {
   "cell_type": "code",
   "execution_count": 71,
   "metadata": {
    "collapsed": false
   },
   "outputs": [
    {
     "name": "stdout",
     "output_type": "stream",
     "text": [
      "[ 0.01  0.    0.    0.    0.    0.    0.01  0.01  0.    0.  ]\n",
      "[ 0.22222532  0.16293351  0.09058381  0.34634919  0.00064725  0.17726092]\n"
     ]
    }
   ],
   "source": [
    "type2_error_abs = [np.mean(p_vals_abs[i, :] > .05) for i in range(n_random)]\n",
    "type2_error_chi2 = [np.mean(p_vals_chi2[i, :] > .05) for i in range(n_random)]\n",
    "\n",
    "difference_in_errors = np.asarray(type2_error_abs) - np.asarray(type2_error_chi2)\n",
    "print difference_in_errors\n",
    "best_probs = probs[np.argmin(difference_in_errors)][0]\n",
    "print best_probs"
   ]
  },
  {
   "cell_type": "markdown",
   "metadata": {},
   "source": [
    "It looks like we have at least one example where the sum of absolute deviations might be better.  To make sure it's not a fluke, I'm going to up the number of trials to estimate the p-value and for sampling from the alternate hypothesis."
   ]
  },
  {
   "cell_type": "code",
   "execution_count": 72,
   "metadata": {
    "collapsed": false
   },
   "outputs": [
    {
     "name": "stdout",
     "output_type": "stream",
     "text": [
      "0.0\n",
      "0.1\n",
      "0.2\n",
      "0.3\n",
      "0.4\n",
      "0.5\n",
      "0.6\n",
      "0.7\n",
      "0.8\n",
      "0.9\n"
     ]
    }
   ],
   "source": [
    "p_vals_abs = np.zeros((1000,))\n",
    "p_vals_chi2 = np.zeros((1000,))\n",
    "\n",
    "for t in range(1000):\n",
    "    if t % 100 == 0:\n",
    "        print t/1000.0\n",
    "    die_probs = dict(zip(range(1,7), best_probs))\n",
    "    rolls = simulate_die(die_probs, sum(observed.values()))\n",
    "    trial_abs_stat = abs_deviation_stat(rolls, expected)\n",
    "    trial_chi2_stat = chi2_stat(rolls, expected)\n",
    "    p_vals_abs[t], p_vals_chi2[t] = get_p_vals(trial_abs_stat,\n",
    "                                               trial_chi2_stat,\n",
    "                                               sum(observed.values()),\n",
    "                                               n_trials_for_p_value)"
   ]
  },
  {
   "cell_type": "code",
   "execution_count": 73,
   "metadata": {
    "collapsed": false
   },
   "outputs": [
    {
     "name": "stdout",
     "output_type": "stream",
     "text": [
      "type 2 error abs 0.017\n",
      "type 2 error chi2 0.0\n"
     ]
    }
   ],
   "source": [
    "print \"type 2 error abs\", np.mean(p_vals_abs > .05)\n",
    "print \"type 2 error chi2\", np.mean(p_vals_chi2 > .05)"
   ]
  },
  {
   "cell_type": "markdown",
   "metadata": {},
   "source": [
    "Determining optimal tests is something that statisticians spend a lot of time thinking about.  The holy grail would be determining what's called the [uniformly most powerful test](https://en.wikipedia.org/wiki/Uniformly_most_powerful_test) (or UMP) for a given situation.  A UMP is a test statistic that yields the lowest probability of a type 2 error for any fixed probability a type 1 error.  It is my understanding that UMPs are relatively rare (i.e. we don't know about too many of them).  I tried to find out whether or not the chi2 test is a UMP for proportion testing and was not able to determine definitively whether or not this is the case.  Unfortunately, this is getting to the outer limits of my stats knowledge, so if you find anything out about this question (or just information regarding UMPs), I'd be excited to hear about it."
   ]
  }
 ],
 "metadata": {
  "kernelspec": {
   "display_name": "Python 2",
   "language": "python",
   "name": "python2"
  },
  "language_info": {
   "codemirror_mode": {
    "name": "ipython",
    "version": 2
   },
   "file_extension": ".py",
   "mimetype": "text/x-python",
   "name": "python",
   "nbconvert_exporter": "python",
   "pygments_lexer": "ipython2",
   "version": "2.7.11"
  }
 },
 "nbformat": 4,
 "nbformat_minor": 0
}

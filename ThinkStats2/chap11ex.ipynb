{
 "cells": [
  {
   "cell_type": "markdown",
   "metadata": {},
   "source": [
    "Exercise from Think Stats, 2nd Edition (thinkstats2.com)<br>\n",
    "Allen Downey"
   ]
  },
  {
   "cell_type": "code",
   "execution_count": 81,
   "metadata": {
    "collapsed": false
   },
   "outputs": [],
   "source": [
    "%matplotlib inline\n",
    "import matplotlib.pyplot as plt\n",
    "import numpy as np\n",
    "from sklearn import linear_model\n",
    "import nsfg\n",
    "import chap01soln\n",
    "import statsmodels.formula.api as smf"
   ]
  },
  {
   "cell_type": "markdown",
   "metadata": {},
   "source": [
    "Suppose one of your co-workers is expecting a baby and you are participating in an office pool to predict the date of birth. Assuming that bets are placed during the 30th week of pregnancy, what variables could you use to make the best prediction? You should limit yourself to variables that are known before the birth, and likely to be available to the people in the pool. "
   ]
  },
  {
   "cell_type": "markdown",
   "metadata": {
    "collapsed": false
   },
   "source": [
    "First, I want to load in the data and just restrict the database right off the bat. I'll also use this time to drop my nan values. "
   ]
  },
  {
   "cell_type": "code",
   "execution_count": 82,
   "metadata": {
    "collapsed": false
   },
   "outputs": [],
   "source": [
    "births = nsfg.ReadFemPreg()\n",
    "live = births[(births.outcome == 1) & (births.prglngth > 30)]\n",
    "resp = chap01soln.ReadFemResp()\n"
   ]
  },
  {
   "cell_type": "code",
   "execution_count": 83,
   "metadata": {
    "collapsed": false
   },
   "outputs": [],
   "source": [
    "join = live.join(resp, on='caseid', rsuffix='_r')\n"
   ]
  },
  {
   "cell_type": "code",
   "execution_count": 84,
   "metadata": {
    "collapsed": false
   },
   "outputs": [],
   "source": [
    "t = []\n",
    "for name in join.columns:\n",
    "    try:\n",
    "        if join[name].var() < 1e-7:\n",
    "            continue\n",
    "        formula = ('prglngth ~ ' + name).encode('ascii')\n",
    "        model = smf.ols(formula, data=join)\n",
    "        if model.nobs < len(join)/2:\n",
    "            continue\n",
    "        results = model.fit()\n",
    "    except (ValueError, TypeError):\n",
    "        continue\n",
    "    t.append((results.rsquared, name))"
   ]
  },
  {
   "cell_type": "code",
   "execution_count": 85,
   "metadata": {
    "collapsed": false
   },
   "outputs": [
    {
     "name": "stdout",
     "output_type": "stream",
     "text": [
      "(u'prglngth', 1.0)\n",
      "(u'wksgest', 0.80624341161392343)\n",
      "('totalwgt_lb', 0.12445743148120236)\n",
      "(u'birthwgt_lb', 0.11977307804917292)\n",
      "(u'lbw1', 0.10372542204583624)\n",
      "(u'mosgest', 0.095624319895927679)\n",
      "(u'prglngth_i', 0.0220537757964685)\n",
      "(u'nbrnaliv', 0.0045775657855365859)\n",
      "(u'mardat02_i', 0.003084214232312199)\n",
      "(u'wantrp07_i', 0.0028805878918768402)\n",
      "(u'oldwr07_i', 0.0028805878918768402)\n",
      "(u'oldwp07_i', 0.0028805878918768402)\n",
      "(u'parts12', 0.0027898760463058725)\n",
      "(u'rmarout07_i', 0.0027500058046551201)\n",
      "(u'condomr_i', 0.0024693444168197853)\n",
      "(u'anynurse', 0.0024520248837134329)\n",
      "(u'bfeedwks', 0.0023691839446664531)\n",
      "(u'mon12prt', 0.0023356623983744607)\n",
      "(u'pregend1', 0.0022493894338005971)\n",
      "(u'intr_ec3', 0.0020549332842115797)\n",
      "(u'cmlastlb', 0.0020431424422021616)\n",
      "(u'warm', 0.0020189345316214968)\n",
      "(u'fmarcon5_i', 0.0019681593242552031)\n",
      "(u'evuseint', 0.0018917527758629538)\n",
      "(u'agecon07_i', 0.0018117332152514098)\n",
      "(u'marcon05_i', 0.0017807675795284972)\n",
      "(u'knowfp', 0.0017743566721165616)\n",
      "(u'sexever_i', 0.0017535117906622988)\n",
      "(u'patch', 0.0016938618802260219)\n",
      "(u'menarche', 0.0016629059933828128)\n"
     ]
    }
   ],
   "source": [
    "t.sort(reverse=True)\n",
    "for mse, name in t[:30]:\n",
    "    print(name, mse)"
   ]
  },
  {
   "cell_type": "markdown",
   "metadata": {},
   "source": [
    "Okay, so this predicts the weeks of gestation for all the variables. Now, let's only use the variables that we'd have access to."
   ]
  },
  {
   "cell_type": "code",
   "execution_count": 86,
   "metadata": {
    "collapsed": false
   },
   "outputs": [],
   "source": [
    "joinFiltered = join[['prglngth','pregordr','agepreg','marstat','hisp',\n",
    "                     'roscnt','goschol','higrade','havedip','havedeg',\n",
    "                     'numpregs','cntry00','brnout','evwrk6mo','wrk12mos',\n",
    "                     'educat','race','numfmhh']]"
   ]
  },
  {
   "cell_type": "code",
   "execution_count": 87,
   "metadata": {
    "collapsed": true
   },
   "outputs": [],
   "source": [
    "tFiltered = []\n",
    "for name in joinFiltered.columns:\n",
    "    try:\n",
    "        if join[name].var() < 1e-7:\n",
    "            continue\n",
    "        formula = ('prglngth ~ ' + name).encode('ascii')\n",
    "        model = smf.ols(formula, data=joinFiltered)\n",
    "        if model.nobs < len(join)/2:\n",
    "            continue\n",
    "        results = model.fit()\n",
    "    except (ValueError, TypeError):\n",
    "        continue\n",
    "    tFiltered.append((results.rsquared, name))"
   ]
  },
  {
   "cell_type": "code",
   "execution_count": 88,
   "metadata": {
    "collapsed": false
   },
   "outputs": [
    {
     "name": "stdout",
     "output_type": "stream",
     "text": [
      "(u'prglngth', 1.0)\n",
      "(u'pregordr', 0.00062224148606715435)\n",
      "(u'educat', 0.00059068244033599893)\n",
      "(u'marstat', 0.00055259939593688134)\n",
      "(u'numpregs', 0.00039871360360510533)\n",
      "(u'havedip', 0.00035383982253922586)\n",
      "(u'race', 0.00031440218809630771)\n",
      "(u'numfmhh', 0.00027737775283898092)\n",
      "(u'hisp', 0.00012628508855627718)\n",
      "(u'roscnt', 0.0001200107015281171)\n",
      "(u'higrade', 4.7422830185106513e-05)\n",
      "(u'wrk12mos', 3.6221957431581409e-05)\n",
      "(u'brnout', 2.7050223118885164e-05)\n",
      "(u'evwrk6mo', 2.2877588194858411e-05)\n",
      "(u'agepreg', 1.7603962211398816e-05)\n",
      "(u'goschol', 1.984423825263093e-07)\n"
     ]
    }
   ],
   "source": [
    "tFiltered.sort(reverse=True)\n",
    "for mse, name in tFiltered[:30]:\n",
    "    print(name, mse)"
   ]
  },
  {
   "cell_type": "markdown",
   "metadata": {},
   "source": [
    "So, it doesn't seem like there is anything that's super related to the birth day in the columns that I looked through. Other than, of course, the length of the pregnancy. It seems like the sorts of things that the people at an office would know don't really predict when the baby will be born. \n",
    "\n",
    "There might well be different things that I could use to predict the date of birth, but I spent about half an hour looking through the codebook for columns that coworkers might now, and these are the ones I found. Perhaps I missed a different method of selecting column names that might have been faster. "
   ]
  },
  {
   "cell_type": "markdown",
   "metadata": {},
   "source": [
    "## Clarifying Questions\n",
    "\n",
    "Use this space to ask questions regarding the content covered in the reading. These questions should be restricted to helping you better understand the material. For questions that push beyond what is in the reading, use the next answer field. If you don't have a fully formed question, but are generally having a difficult time with a topic, you can indicate that here as well."
   ]
  },
  {
   "cell_type": "markdown",
   "metadata": {},
   "source": [
    "It seems like there are a lot of variables that Allen defined earlier on in think stats that he used in this chapter. It wasn't immediately ovious to me (maybe I missed something) in this chapter or the previous one how these variables would be defined, and it makes reading the chapters/doing the exercises out of order more confusing/time consuming. \n",
    "\n",
    "One of the questions that I had when trying to answer a question like this is whether I use only data of women 30 weeks pregnant to answer this question, or is it acceptable to use all of the data? Or only data for women pregnant less than 30 weeks? More than 30 weeks? How do I know what the \"right\" portion of the data to answer a question like this? "
   ]
  },
  {
   "cell_type": "markdown",
   "metadata": {},
   "source": [
    "## Enrichment Questions\n",
    "\n",
    "Use this space to ask any questions that go beyond (but are related to) the material presented in this reading. Perhaps there is a particular topic you'd like to see covered in more depth. Perhaps you'd like to know how to use a library in a way that wasn't show in the reading. One way to think about this is what additional topics would you want covered in the next class (or addressed in a followup e-mail to the class). I'm a little fuzzy on what stuff will likely go here, so we'll see how things evolve."
   ]
  },
  {
   "cell_type": "markdown",
   "metadata": {},
   "source": [
    "When you have a dataset that's as large as the one we have, how do you go about managing it/selecting what columns to use for analysis? There are more than 1000 columns and looking through them all seems a little impratical."
   ]
  },
  {
   "cell_type": "markdown",
   "metadata": {},
   "source": [
    "## Additional Resources / Explorations\n",
    "\n",
    "If you found any useful resources, or tried some useful exercises that you'd like to report please do so here. Let us know what you did, what you learned, and how others can replicate it."
   ]
  },
  {
   "cell_type": "markdown",
   "metadata": {},
   "source": [
    "Nothing here!"
   ]
  }
 ],
 "metadata": {
  "kernelspec": {
   "display_name": "Python 2",
   "language": "python",
   "name": "python2"
  },
  "language_info": {
   "codemirror_mode": {
    "name": "ipython",
    "version": 2
   },
   "file_extension": ".py",
   "mimetype": "text/x-python",
   "name": "python",
   "nbconvert_exporter": "python",
   "pygments_lexer": "ipython2",
   "version": "2.7.11"
  }
 },
 "nbformat": 4,
 "nbformat_minor": 0
}
